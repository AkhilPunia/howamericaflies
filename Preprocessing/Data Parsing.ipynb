{
 "cells": [
  {
   "cell_type": "code",
   "execution_count": 1,
   "metadata": {
    "collapsed": true
   },
   "outputs": [],
   "source": [
    "import pandas as pd\n",
    "import glob"
   ]
  },
  {
   "cell_type": "code",
   "execution_count": 2,
   "metadata": {
    "collapsed": true
   },
   "outputs": [],
   "source": [
    "dec_path = 'Data Last Five Decembers/'\n",
    "dec_data = sorted(glob.glob(dec_path + \"*.csv\"))"
   ]
  },
  {
   "cell_type": "code",
   "execution_count": 3,
   "metadata": {
    "collapsed": true
   },
   "outputs": [],
   "source": [
    "year_path = 'Data_One _Year/'\n",
    "year_data = sorted(glob.glob(year_path + \"*.csv\"))"
   ]
  },
  {
   "cell_type": "code",
   "execution_count": 4,
   "metadata": {},
   "outputs": [
    {
     "name": "stderr",
     "output_type": "stream",
     "text": [
      "/Users/akhilpunia/anaconda/envs/py36/lib/python3.6/site-packages/IPython/core/interactiveshell.py:2698: DtypeWarning: Columns (77,84,85) have mixed types. Specify dtype option on import or set low_memory=False.\n",
      "  interactivity=interactivity, compiler=compiler, result=result)\n"
     ]
    }
   ],
   "source": [
    "dummy = pd.read_csv('Data Last Five Decembers/On_Time_Reporting_Carrier_On_Time_Performance_(1987_present)_2013_12.csv')"
   ]
  },
  {
   "cell_type": "code",
   "execution_count": 5,
   "metadata": {},
   "outputs": [
    {
     "data": {
      "text/html": [
       "<div>\n",
       "<style scoped>\n",
       "    .dataframe tbody tr th:only-of-type {\n",
       "        vertical-align: middle;\n",
       "    }\n",
       "\n",
       "    .dataframe tbody tr th {\n",
       "        vertical-align: top;\n",
       "    }\n",
       "\n",
       "    .dataframe thead th {\n",
       "        text-align: right;\n",
       "    }\n",
       "</style>\n",
       "<table border=\"1\" class=\"dataframe\">\n",
       "  <thead>\n",
       "    <tr style=\"text-align: right;\">\n",
       "      <th></th>\n",
       "      <th>Year</th>\n",
       "      <th>Quarter</th>\n",
       "      <th>Month</th>\n",
       "      <th>DayofMonth</th>\n",
       "      <th>DayOfWeek</th>\n",
       "      <th>FlightDate</th>\n",
       "      <th>Reporting_Airline</th>\n",
       "      <th>DOT_ID_Reporting_Airline</th>\n",
       "      <th>IATA_CODE_Reporting_Airline</th>\n",
       "      <th>Tail_Number</th>\n",
       "      <th>...</th>\n",
       "      <th>Div4TailNum</th>\n",
       "      <th>Div5Airport</th>\n",
       "      <th>Div5AirportID</th>\n",
       "      <th>Div5AirportSeqID</th>\n",
       "      <th>Div5WheelsOn</th>\n",
       "      <th>Div5TotalGTime</th>\n",
       "      <th>Div5LongestGTime</th>\n",
       "      <th>Div5WheelsOff</th>\n",
       "      <th>Div5TailNum</th>\n",
       "      <th>Unnamed: 109</th>\n",
       "    </tr>\n",
       "  </thead>\n",
       "  <tbody>\n",
       "    <tr>\n",
       "      <th>0</th>\n",
       "      <td>2013</td>\n",
       "      <td>4</td>\n",
       "      <td>12</td>\n",
       "      <td>16</td>\n",
       "      <td>1</td>\n",
       "      <td>2013-12-16</td>\n",
       "      <td>DL</td>\n",
       "      <td>19790</td>\n",
       "      <td>DL</td>\n",
       "      <td>N552NW</td>\n",
       "      <td>...</td>\n",
       "      <td>NaN</td>\n",
       "      <td>NaN</td>\n",
       "      <td>NaN</td>\n",
       "      <td>NaN</td>\n",
       "      <td>NaN</td>\n",
       "      <td>NaN</td>\n",
       "      <td>NaN</td>\n",
       "      <td>NaN</td>\n",
       "      <td>NaN</td>\n",
       "      <td>NaN</td>\n",
       "    </tr>\n",
       "    <tr>\n",
       "      <th>1</th>\n",
       "      <td>2013</td>\n",
       "      <td>4</td>\n",
       "      <td>12</td>\n",
       "      <td>16</td>\n",
       "      <td>1</td>\n",
       "      <td>2013-12-16</td>\n",
       "      <td>DL</td>\n",
       "      <td>19790</td>\n",
       "      <td>DL</td>\n",
       "      <td>N907DL</td>\n",
       "      <td>...</td>\n",
       "      <td>NaN</td>\n",
       "      <td>NaN</td>\n",
       "      <td>NaN</td>\n",
       "      <td>NaN</td>\n",
       "      <td>NaN</td>\n",
       "      <td>NaN</td>\n",
       "      <td>NaN</td>\n",
       "      <td>NaN</td>\n",
       "      <td>NaN</td>\n",
       "      <td>NaN</td>\n",
       "    </tr>\n",
       "    <tr>\n",
       "      <th>2</th>\n",
       "      <td>2013</td>\n",
       "      <td>4</td>\n",
       "      <td>12</td>\n",
       "      <td>16</td>\n",
       "      <td>1</td>\n",
       "      <td>2013-12-16</td>\n",
       "      <td>DL</td>\n",
       "      <td>19790</td>\n",
       "      <td>DL</td>\n",
       "      <td>N924DL</td>\n",
       "      <td>...</td>\n",
       "      <td>NaN</td>\n",
       "      <td>NaN</td>\n",
       "      <td>NaN</td>\n",
       "      <td>NaN</td>\n",
       "      <td>NaN</td>\n",
       "      <td>NaN</td>\n",
       "      <td>NaN</td>\n",
       "      <td>NaN</td>\n",
       "      <td>NaN</td>\n",
       "      <td>NaN</td>\n",
       "    </tr>\n",
       "    <tr>\n",
       "      <th>3</th>\n",
       "      <td>2013</td>\n",
       "      <td>4</td>\n",
       "      <td>12</td>\n",
       "      <td>16</td>\n",
       "      <td>1</td>\n",
       "      <td>2013-12-16</td>\n",
       "      <td>DL</td>\n",
       "      <td>19790</td>\n",
       "      <td>DL</td>\n",
       "      <td>N924DL</td>\n",
       "      <td>...</td>\n",
       "      <td>NaN</td>\n",
       "      <td>NaN</td>\n",
       "      <td>NaN</td>\n",
       "      <td>NaN</td>\n",
       "      <td>NaN</td>\n",
       "      <td>NaN</td>\n",
       "      <td>NaN</td>\n",
       "      <td>NaN</td>\n",
       "      <td>NaN</td>\n",
       "      <td>NaN</td>\n",
       "    </tr>\n",
       "    <tr>\n",
       "      <th>4</th>\n",
       "      <td>2013</td>\n",
       "      <td>4</td>\n",
       "      <td>12</td>\n",
       "      <td>16</td>\n",
       "      <td>1</td>\n",
       "      <td>2013-12-16</td>\n",
       "      <td>DL</td>\n",
       "      <td>19790</td>\n",
       "      <td>DL</td>\n",
       "      <td>N908DA</td>\n",
       "      <td>...</td>\n",
       "      <td>NaN</td>\n",
       "      <td>NaN</td>\n",
       "      <td>NaN</td>\n",
       "      <td>NaN</td>\n",
       "      <td>NaN</td>\n",
       "      <td>NaN</td>\n",
       "      <td>NaN</td>\n",
       "      <td>NaN</td>\n",
       "      <td>NaN</td>\n",
       "      <td>NaN</td>\n",
       "    </tr>\n",
       "  </tbody>\n",
       "</table>\n",
       "<p>5 rows × 110 columns</p>\n",
       "</div>"
      ],
      "text/plain": [
       "   Year  Quarter  Month  DayofMonth  DayOfWeek  FlightDate Reporting_Airline  \\\n",
       "0  2013        4     12          16          1  2013-12-16                DL   \n",
       "1  2013        4     12          16          1  2013-12-16                DL   \n",
       "2  2013        4     12          16          1  2013-12-16                DL   \n",
       "3  2013        4     12          16          1  2013-12-16                DL   \n",
       "4  2013        4     12          16          1  2013-12-16                DL   \n",
       "\n",
       "   DOT_ID_Reporting_Airline IATA_CODE_Reporting_Airline Tail_Number  \\\n",
       "0                     19790                          DL      N552NW   \n",
       "1                     19790                          DL      N907DL   \n",
       "2                     19790                          DL      N924DL   \n",
       "3                     19790                          DL      N924DL   \n",
       "4                     19790                          DL      N908DA   \n",
       "\n",
       "       ...       Div4TailNum  Div5Airport  Div5AirportID  Div5AirportSeqID  \\\n",
       "0      ...               NaN          NaN            NaN               NaN   \n",
       "1      ...               NaN          NaN            NaN               NaN   \n",
       "2      ...               NaN          NaN            NaN               NaN   \n",
       "3      ...               NaN          NaN            NaN               NaN   \n",
       "4      ...               NaN          NaN            NaN               NaN   \n",
       "\n",
       "  Div5WheelsOn Div5TotalGTime Div5LongestGTime  Div5WheelsOff Div5TailNum  \\\n",
       "0          NaN            NaN              NaN            NaN         NaN   \n",
       "1          NaN            NaN              NaN            NaN         NaN   \n",
       "2          NaN            NaN              NaN            NaN         NaN   \n",
       "3          NaN            NaN              NaN            NaN         NaN   \n",
       "4          NaN            NaN              NaN            NaN         NaN   \n",
       "\n",
       "   Unnamed: 109  \n",
       "0           NaN  \n",
       "1           NaN  \n",
       "2           NaN  \n",
       "3           NaN  \n",
       "4           NaN  \n",
       "\n",
       "[5 rows x 110 columns]"
      ]
     },
     "execution_count": 5,
     "metadata": {},
     "output_type": "execute_result"
    }
   ],
   "source": [
    "dummy.head()"
   ]
  },
  {
   "cell_type": "code",
   "execution_count": 6,
   "metadata": {},
   "outputs": [
    {
     "name": "stdout",
     "output_type": "stream",
     "text": [
      "0 Year\n",
      "1 Quarter\n",
      "2 Month\n",
      "3 DayofMonth\n",
      "4 DayOfWeek\n",
      "5 FlightDate\n",
      "6 Reporting_Airline\n",
      "7 DOT_ID_Reporting_Airline\n",
      "8 IATA_CODE_Reporting_Airline\n",
      "9 Tail_Number\n",
      "10 Flight_Number_Reporting_Airline\n",
      "11 OriginAirportID\n",
      "12 OriginAirportSeqID\n",
      "13 OriginCityMarketID\n",
      "14 Origin\n",
      "15 OriginCityName\n",
      "16 OriginState\n",
      "17 OriginStateFips\n",
      "18 OriginStateName\n",
      "19 OriginWac\n",
      "20 DestAirportID\n",
      "21 DestAirportSeqID\n",
      "22 DestCityMarketID\n",
      "23 Dest\n",
      "24 DestCityName\n",
      "25 DestState\n",
      "26 DestStateFips\n",
      "27 DestStateName\n",
      "28 DestWac\n",
      "29 CRSDepTime\n",
      "30 DepTime\n",
      "31 DepDelay\n",
      "32 DepDelayMinutes\n",
      "33 DepDel15\n",
      "34 DepartureDelayGroups\n",
      "35 DepTimeBlk\n",
      "36 TaxiOut\n",
      "37 WheelsOff\n",
      "38 WheelsOn\n",
      "39 TaxiIn\n",
      "40 CRSArrTime\n",
      "41 ArrTime\n",
      "42 ArrDelay\n",
      "43 ArrDelayMinutes\n",
      "44 ArrDel15\n",
      "45 ArrivalDelayGroups\n",
      "46 ArrTimeBlk\n",
      "47 Cancelled\n",
      "48 CancellationCode\n",
      "49 Diverted\n",
      "50 CRSElapsedTime\n",
      "51 ActualElapsedTime\n",
      "52 AirTime\n",
      "53 Flights\n",
      "54 Distance\n",
      "55 DistanceGroup\n",
      "56 CarrierDelay\n",
      "57 WeatherDelay\n",
      "58 NASDelay\n",
      "59 SecurityDelay\n",
      "60 LateAircraftDelay\n",
      "61 FirstDepTime\n",
      "62 TotalAddGTime\n",
      "63 LongestAddGTime\n",
      "64 DivAirportLandings\n",
      "65 DivReachedDest\n",
      "66 DivActualElapsedTime\n",
      "67 DivArrDelay\n",
      "68 DivDistance\n",
      "69 Div1Airport\n",
      "70 Div1AirportID\n",
      "71 Div1AirportSeqID\n",
      "72 Div1WheelsOn\n",
      "73 Div1TotalGTime\n",
      "74 Div1LongestGTime\n",
      "75 Div1WheelsOff\n",
      "76 Div1TailNum\n",
      "77 Div2Airport\n",
      "78 Div2AirportID\n",
      "79 Div2AirportSeqID\n",
      "80 Div2WheelsOn\n",
      "81 Div2TotalGTime\n",
      "82 Div2LongestGTime\n",
      "83 Div2WheelsOff\n",
      "84 Div2TailNum\n",
      "85 Div3Airport\n",
      "86 Div3AirportID\n",
      "87 Div3AirportSeqID\n",
      "88 Div3WheelsOn\n",
      "89 Div3TotalGTime\n",
      "90 Div3LongestGTime\n",
      "91 Div3WheelsOff\n",
      "92 Div3TailNum\n",
      "93 Div4Airport\n",
      "94 Div4AirportID\n",
      "95 Div4AirportSeqID\n",
      "96 Div4WheelsOn\n",
      "97 Div4TotalGTime\n",
      "98 Div4LongestGTime\n",
      "99 Div4WheelsOff\n",
      "100 Div4TailNum\n",
      "101 Div5Airport\n",
      "102 Div5AirportID\n",
      "103 Div5AirportSeqID\n",
      "104 Div5WheelsOn\n",
      "105 Div5TotalGTime\n",
      "106 Div5LongestGTime\n",
      "107 Div5WheelsOff\n",
      "108 Div5TailNum\n",
      "109 Unnamed: 109\n"
     ]
    }
   ],
   "source": [
    "for i,name in enumerate(dummy.columns):\n",
    "    print(i, name)"
   ]
  },
  {
   "cell_type": "code",
   "execution_count": 14,
   "metadata": {},
   "outputs": [],
   "source": [
    "keep_columns = ['Year','DayOfWeek','Month','FlightDate','Reporting_Airline','Tail_Number','IATA_CODE_Reporting_Airline','Origin',\n",
    "                'OriginAirportID','OriginCityName','OriginStateName','Dest','DestAirportID','DestCityName',\n",
    "                'DestStateName','CRSDepTime','DepDelay','DepDelayMinutes','ArrDelay','ArrDelayMinutes','Distance',\n",
    "                'DistanceGroup','Cancelled','CancellationCode','CarrierDelay','WeatherDelay','NASDelay',\n",
    "                'SecurityDelay','LateAircraftDelay','ActualElapsedTime','CRSArrTime' ]"
   ]
  },
  {
   "cell_type": "code",
   "execution_count": 9,
   "metadata": {},
   "outputs": [],
   "source": [
    "keep_columns_2 =['Year','DayOfWeek','DayofMonth','Month','FlightDate','Reporting_Airline','Tail_Number','IATA_CODE_Reporting_Airline','Origin',\n",
    "                'OriginAirportID','OriginCityName','OriginStateName','Dest','DestAirportID','DestCityName',\n",
    "                'DestStateName','CRSDepTime','DepDelay','DepDelayMinutes','ArrDelay','ArrDelayMinutes','Distance',\n",
    "                'DistanceGroup','Cancelled','CancellationCode','CarrierDelay','WeatherDelay','NASDelay',\n",
    "                'SecurityDelay','LateAircraftDelay']"
   ]
  },
  {
   "cell_type": "code",
   "execution_count": 10,
   "metadata": {},
   "outputs": [
    {
     "name": "stderr",
     "output_type": "stream",
     "text": [
      "/Users/akhilpunia/anaconda/envs/py36/lib/python3.6/site-packages/IPython/core/interactiveshell.py:2698: DtypeWarning: Columns (77,84,85) have mixed types. Specify dtype option on import or set low_memory=False.\n",
      "  interactivity=interactivity, compiler=compiler, result=result)\n"
     ]
    },
    {
     "name": "stdout",
     "output_type": "stream",
     "text": [
      "file 0 read\n"
     ]
    },
    {
     "name": "stderr",
     "output_type": "stream",
     "text": [
      "/Users/akhilpunia/anaconda/envs/py36/lib/python3.6/site-packages/IPython/core/interactiveshell.py:2698: DtypeWarning: Columns (48,69,76,77,84) have mixed types. Specify dtype option on import or set low_memory=False.\n",
      "  interactivity=interactivity, compiler=compiler, result=result)\n"
     ]
    },
    {
     "name": "stdout",
     "output_type": "stream",
     "text": [
      "file 1 read\n"
     ]
    },
    {
     "name": "stderr",
     "output_type": "stream",
     "text": [
      "/Users/akhilpunia/anaconda/envs/py36/lib/python3.6/site-packages/IPython/core/interactiveshell.py:2698: DtypeWarning: Columns (76,77,84,85) have mixed types. Specify dtype option on import or set low_memory=False.\n",
      "  interactivity=interactivity, compiler=compiler, result=result)\n"
     ]
    },
    {
     "name": "stdout",
     "output_type": "stream",
     "text": [
      "file 2 read\n"
     ]
    },
    {
     "name": "stderr",
     "output_type": "stream",
     "text": [
      "/Users/akhilpunia/anaconda/envs/py36/lib/python3.6/site-packages/IPython/core/interactiveshell.py:2698: DtypeWarning: Columns (48,77,84) have mixed types. Specify dtype option on import or set low_memory=False.\n",
      "  interactivity=interactivity, compiler=compiler, result=result)\n"
     ]
    },
    {
     "name": "stdout",
     "output_type": "stream",
     "text": [
      "file 3 read\n",
      "file 4 read\n"
     ]
    }
   ],
   "source": [
    "for i,f in enumerate(dec_data):\n",
    "    df = pd.read_csv(f)\n",
    "    print('file {} read'.format(i))\n",
    "    if i == 0:\n",
    "        data = df[keep_columns_2]\n",
    "    else:\n",
    "        df2 = df[keep_columns_2]\n",
    "        newdata = pd.concat([data,df2])\n",
    "        data = newdata.copy()\n",
    "        \n",
    "data.to_csv('02_december_data.csv')"
   ]
  },
  {
   "cell_type": "code",
   "execution_count": 11,
   "metadata": {},
   "outputs": [
    {
     "data": {
      "text/plain": [
       "2013    516739\n",
       "2015    479230\n",
       "2014    477183\n",
       "2017    464205\n",
       "2016    460949\n",
       "Name: Year, dtype: int64"
      ]
     },
     "execution_count": 11,
     "metadata": {},
     "output_type": "execute_result"
    }
   ],
   "source": [
    "data['Year'].value_counts()"
   ]
  },
  {
   "cell_type": "code",
   "execution_count": 15,
   "metadata": {},
   "outputs": [
    {
     "name": "stderr",
     "output_type": "stream",
     "text": [
      "/Users/akhilpunia/anaconda/envs/py36/lib/python3.6/site-packages/IPython/core/interactiveshell.py:2698: DtypeWarning: Columns (48,76,77,84) have mixed types. Specify dtype option on import or set low_memory=False.\n",
      "  interactivity=interactivity, compiler=compiler, result=result)\n"
     ]
    },
    {
     "name": "stdout",
     "output_type": "stream",
     "text": [
      "file 0 read\n"
     ]
    },
    {
     "name": "stderr",
     "output_type": "stream",
     "text": [
      "/Users/akhilpunia/anaconda/envs/py36/lib/python3.6/site-packages/IPython/core/interactiveshell.py:2698: DtypeWarning: Columns (48,77,84) have mixed types. Specify dtype option on import or set low_memory=False.\n",
      "  interactivity=interactivity, compiler=compiler, result=result)\n"
     ]
    },
    {
     "name": "stdout",
     "output_type": "stream",
     "text": [
      "file 1 read\n",
      "file 2 read\n"
     ]
    },
    {
     "name": "stderr",
     "output_type": "stream",
     "text": [
      "/Users/akhilpunia/anaconda/envs/py36/lib/python3.6/site-packages/IPython/core/interactiveshell.py:2698: DtypeWarning: Columns (48,69,76,77,84) have mixed types. Specify dtype option on import or set low_memory=False.\n",
      "  interactivity=interactivity, compiler=compiler, result=result)\n"
     ]
    },
    {
     "name": "stdout",
     "output_type": "stream",
     "text": [
      "file 3 read\n",
      "file 4 read\n",
      "file 5 read\n",
      "file 6 read\n",
      "file 7 read\n",
      "file 8 read\n",
      "file 9 read\n",
      "file 10 read\n",
      "file 11 read\n"
     ]
    }
   ],
   "source": [
    "for i,f in enumerate(year_data):\n",
    "    df = pd.read_csv(f)\n",
    "    print('file {} read'.format(i))\n",
    "    if i == 0:\n",
    "        data = df[keep_columns]\n",
    "    else:\n",
    "        df = df[keep_columns]\n",
    "        data = pd.concat([data,df])\n",
    "        \n",
    "data.to_csv('01_year_data.csv')"
   ]
  },
  {
   "cell_type": "code",
   "execution_count": 16,
   "metadata": {},
   "outputs": [
    {
     "data": {
      "text/plain": [
       "7     645299\n",
       "8     644673\n",
       "6     626193\n",
       "5     616529\n",
       "3     611987\n",
       "4     596046\n",
       "9     585749\n",
       "1     570118\n",
       "2     520731\n",
       "10    479797\n",
       "12    464205\n",
       "11    454162\n",
       "Name: Month, dtype: int64"
      ]
     },
     "execution_count": 16,
     "metadata": {},
     "output_type": "execute_result"
    }
   ],
   "source": [
    "data['Month'].value_counts()"
   ]
  },
  {
   "cell_type": "code",
   "execution_count": null,
   "metadata": {
    "collapsed": true
   },
   "outputs": [],
   "source": []
  }
 ],
 "metadata": {
  "kernelspec": {
   "display_name": "Python 3",
   "language": "python",
   "name": "python3"
  },
  "language_info": {
   "codemirror_mode": {
    "name": "ipython",
    "version": 3
   },
   "file_extension": ".py",
   "mimetype": "text/x-python",
   "name": "python",
   "nbconvert_exporter": "python",
   "pygments_lexer": "ipython3",
   "version": "3.6.7"
  }
 },
 "nbformat": 4,
 "nbformat_minor": 2
}
